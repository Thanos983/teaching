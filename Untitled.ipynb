{
 "cells": [
  {
   "cell_type": "code",
   "execution_count": 4,
   "metadata": {},
   "outputs": [
    {
     "name": "stdout",
     "output_type": "stream",
     "text": [
      "50\n"
     ]
    }
   ],
   "source": [
    "x = ...\n",
    "y = 10\n",
    "\n",
    "print(x*y)\n"
   ]
  },
  {
   "cell_type": "code",
   "execution_count": 5,
   "metadata": {},
   "outputs": [
    {
     "name": "stdout",
     "output_type": "stream",
     "text": [
      "Το y είναι μεγαλύτερο απο το x\n"
     ]
    }
   ],
   "source": [
    "x = ...\n",
    "\n",
    "if x>5:\n",
    "    print(\"Σωστά!\")\n",
    "else:\n",
    "    print(\"Προσπάθησε ξανά!\")"
   ]
  },
  {
   "cell_type": "code",
   "execution_count": 6,
   "metadata": {},
   "outputs": [
    {
     "name": "stdout",
     "output_type": "stream",
     "text": [
      "Το χ είναι μεγαλύτερο απο το y\n"
     ]
    }
   ],
   "source": [
    "total = 0\n",
    "\n",
    "for i in range(...):\n",
    "    total += i\n",
    "    \n",
    "if i == 15:\n",
    "    print(\"Σωστά!\")"
   ]
  },
  {
   "cell_type": "code",
   "execution_count": 7,
   "metadata": {},
   "outputs": [
    {
     "name": "stdout",
     "output_type": "stream",
     "text": [
      "Το χ ισούται με το y\n"
     ]
    }
   ],
   "source": [
    "x = 5\n",
    "y = 5\n",
    "\n",
    "if x>y:\n",
    "    print(\"Το χ είναι μεγαλύτερο απο το y\")\n",
    "elif y>x:\n",
    "    print(\"Το y είναι μεγαλύτερο απο το x\")\n",
    "else:\n",
    "    print(\"Το χ ισούται με το y\")"
   ]
  }
 ],
 "metadata": {
  "kernelspec": {
   "display_name": "Python 3",
   "language": "python",
   "name": "python3"
  },
  "language_info": {
   "codemirror_mode": {
    "name": "ipython",
    "version": 3
   },
   "file_extension": ".py",
   "mimetype": "text/x-python",
   "name": "python",
   "nbconvert_exporter": "python",
   "pygments_lexer": "ipython3",
   "version": "3.6.3"
  }
 },
 "nbformat": 4,
 "nbformat_minor": 2
}
